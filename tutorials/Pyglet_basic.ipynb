{
 "metadata": {
  "name": ""
 },
 "nbformat": 3,
 "nbformat_minor": 0,
 "worksheets": [
  {
   "cells": [
    {
     "cell_type": "heading",
     "level": 1,
     "metadata": {
      "slideshow": {
       "slide_type": "slide"
      }
     },
     "source": [
      "2D and 3D game development using Pyglet with Cocos2d"
     ]
    },
    {
     "cell_type": "heading",
     "level": 3,
     "metadata": {},
     "source": [
      "By Natan \u017dabkar"
     ]
    },
    {
     "cell_type": "heading",
     "level": 1,
     "metadata": {
      "slideshow": {
       "slide_type": "slide"
      }
     },
     "source": [
      "About me"
     ]
    },
    {
     "cell_type": "markdown",
     "metadata": {},
     "source": [
      "* Natan \u017dabkar, aka \"nightmarebadger\"\n",
      "* Self-learned programmer\n",
      "* Student of mathematics at FMF\n",
      "* Tutor/demonstrator at FMF\n",
      "* Python web developer at Termitnjak d.o.o"
     ]
    },
    {
     "cell_type": "heading",
     "level": 1,
     "metadata": {
      "slideshow": {
       "slide_type": "slide"
      }
     },
     "source": [
      "Why game development?"
     ]
    },
    {
     "cell_type": "markdown",
     "metadata": {
      "slideshow": {
       "slide_type": "-"
      }
     },
     "source": [
      "* Making games is a great way to see your imagination grow \"real\"\n",
      "* Playing games is fun ..."
     ]
    },
    {
     "cell_type": "markdown",
     "metadata": {
      "slideshow": {
       "slide_type": "fragment"
      }
     },
     "source": [
      "* But making them can be even more fun! :)"
     ]
    },
    {
     "cell_type": "heading",
     "level": 1,
     "metadata": {
      "slideshow": {
       "slide_type": "slide"
      }
     },
     "source": [
      "Why Pyglet?"
     ]
    },
    {
     "cell_type": "markdown",
     "metadata": {},
     "source": [
      "* Clean and easy\n",
      "* Very \"pythonic\"\n",
      "* No external dependencies or installation requirements\n",
      "* Uses OpenGL behind the scenes, so everything is hardware accelerated"
     ]
    },
    {
     "cell_type": "heading",
     "level": 1,
     "metadata": {
      "slideshow": {
       "slide_type": "slide"
      }
     },
     "source": [
      "Pyglet basics"
     ]
    },
    {
     "cell_type": "markdown",
     "metadata": {},
     "source": [
      "* Define a window object\n",
      "* Override the _`on_draw()`_ function\n",
      "* Schedule your game logic using _pyglet.clock_\n",
      "* Run the application with _pyglet.app.run()_"
     ]
    },
    {
     "cell_type": "heading",
     "level": 1,
     "metadata": {
      "slideshow": {
       "slide_type": "subslide"
      }
     },
     "source": [
      "Sample bare bones program"
     ]
    },
    {
     "cell_type": "code",
     "collapsed": false,
     "input": [
      "import pyglet\n",
      "\n",
      "game_window = pyglet.window.Window()\n",
      "\n",
      "@game_window.event\n",
      "def on_draw():\n",
      "    game_window.clear()\n",
      "    \n",
      "def update(dt):\n",
      "    pass\n",
      "\n",
      "if __name__ == '__main__':\n",
      "    pyglet.clock.schedule_interval(update, 0.5)\n",
      "    pyglet.app.run()"
     ],
     "language": "python",
     "metadata": {},
     "outputs": []
    },
    {
     "cell_type": "heading",
     "level": 1,
     "metadata": {
      "slideshow": {
       "slide_type": "subslide"
      }
     },
     "source": [
      "Resources"
     ]
    },
    {
     "cell_type": "markdown",
     "metadata": {},
     "source": [
      "* Manage resources separately, so you only need to load them once\n",
      "* Sample resources.py"
     ]
    },
    {
     "cell_type": "code",
     "collapsed": true,
     "input": [
      "import pyglet\n",
      "\n",
      "pyglet.resource.path = [\"resources\"]\n",
      "pyglet.resource.reindex()\n",
      "\n",
      "player = pyglet.resource.image(\"player.png\")\n",
      "enemy = pyglet.resource.image(\"enemy.png\")"
     ],
     "language": "python",
     "metadata": {},
     "outputs": []
    },
    {
     "cell_type": "heading",
     "level": 1,
     "metadata": {
      "slideshow": {
       "slide_type": "subslide"
      }
     },
     "source": [
      "Sprites"
     ]
    },
    {
     "cell_type": "markdown",
     "metadata": {},
     "source": [
      "* Use sprites to easily draw 2D images, move them around, scale them, rotate them ...\n",
      "* Your player/monster classes will usually be a subclass of _pyglet.sprite.Sprite_"
     ]
    },
    {
     "cell_type": "code",
     "collapsed": false,
     "input": [
      "player = pyglet.sprite.Sprite(resources.player, x=400, y=400)\n",
      "player.scale = 2\n",
      "player.rotation = 45\n",
      "player.x = 600"
     ],
     "language": "python",
     "metadata": {},
     "outputs": []
    },
    {
     "cell_type": "heading",
     "level": 1,
     "metadata": {
      "slideshow": {
       "slide_type": "subslide"
      }
     },
     "source": [
      "Sprite batches"
     ]
    },
    {
     "cell_type": "markdown",
     "metadata": {},
     "source": [
      "* Use batches for optimised drawing"
     ]
    },
    {
     "cell_type": "code",
     "collapsed": false,
     "input": [
      "batch = pyglet.graphics.Batch()\n",
      "player = pyglet.sprite.Sprite(resources.player, x=400, y=400, batch=batch)"
     ],
     "language": "python",
     "metadata": {},
     "outputs": []
    },
    {
     "cell_type": "heading",
     "level": 1,
     "metadata": {
      "slideshow": {
       "slide_type": "subslide"
      }
     },
     "source": [
      "Handling key presses"
     ]
    },
    {
     "cell_type": "markdown",
     "metadata": {},
     "source": [
      "You handle keyboard and mouse presses with game window events"
     ]
    },
    {
     "cell_type": "code",
     "collapsed": false,
     "input": [
      "@game_window.event\n",
      "def on_key_press(symbol, modifiers):\n",
      "    # Keyboard key is pressed\n",
      "\n",
      "@game_window.event\n",
      "def on_key_release(symbol, modifiers):\n",
      "    # Keyboard key is released\n",
      "\n",
      "@game_window.event\n",
      "def on_mouse_press(x, y, button, modifiers):\n",
      "    # Mouse key is pressed\n",
      "\n",
      "@game_window.event\n",
      "def on_mouse_release(x, y, button, modifiers):\n",
      "    # Mouse key is released\n",
      "\n",
      "@game_window.event\n",
      "def on_mouse_scroll(x, y, scroll_x, scroll_y):\n",
      "    # Mouse scroll wheel is used (scrolled, not clicked)\n",
      "\n",
      "@game_window.event\n",
      "def on_mouse_motion(x, y, dx, dy):\n",
      "    # Mouse is moved without any button being pressed\n",
      "\n",
      "@game_window.event\n",
      "def on_mouse_drag(x, y, dx, dy, buttons, modifiers):\n",
      "    # Mouse is being moved while a button is pressed"
     ],
     "language": "python",
     "metadata": {},
     "outputs": []
    },
    {
     "cell_type": "heading",
     "level": 1,
     "metadata": {
      "slideshow": {
       "slide_type": "slide"
      }
     },
     "source": [
      "Catch your husband!"
     ]
    },
    {
     "cell_type": "markdown",
     "metadata": {},
     "source": [
      "We will now make a very simple game, named \"Catch your husband!\". "
     ]
    },
    {
     "cell_type": "heading",
     "level": 1,
     "metadata": {
      "slideshow": {
       "slide_type": "subslide"
      }
     },
     "source": [
      "Story"
     ]
    },
    {
     "cell_type": "markdown",
     "metadata": {},
     "source": [
      "You are a simple housewife, but when your husband (a mafia crime lord) hasn't been home for dinner in two days it's time to show him who wears the pants in your house!"
     ]
    },
    {
     "cell_type": "heading",
     "level": 1,
     "metadata": {
      "slideshow": {
       "slide_type": "subslide"
      }
     },
     "source": [
      "Features"
     ]
    },
    {
     "cell_type": "markdown",
     "metadata": {},
     "source": [
      "* 3 different sprites (made by the very talented **Tja\u0161a \u017dabkar**)\n",
      "* Player movement"
     ]
    },
    {
     "cell_type": "markdown",
     "metadata": {
      "slideshow": {
       "slide_type": "fragment"
      }
     },
     "source": [
      "..."
     ]
    },
    {
     "cell_type": "markdown",
     "metadata": {
      "slideshow": {
       "slide_type": "fragment"
      }
     },
     "source": [
      "Yup, that's it. Don't worry, we will add more features soon :)"
     ]
    }
   ],
   "metadata": {}
  }
 ]
}